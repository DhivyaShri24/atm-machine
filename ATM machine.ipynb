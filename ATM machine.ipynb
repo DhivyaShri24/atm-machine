{
 "cells": [
  {
   "cell_type": "code",
   "execution_count": null,
   "metadata": {
    "colab": {
     "base_uri": "https://localhost:8080/"
    },
    "executionInfo": {
     "elapsed": 52505,
     "status": "ok",
     "timestamp": 1740298669455,
     "user": {
      "displayName": "Bhavithran",
      "userId": "05240777231455848231"
     },
     "user_tz": -330
    },
    "id": "PtmMKsHL1oNK",
    "outputId": "08c41c96-61c5-4b2d-8f31-a1bd99486ac9"
   },
   "outputs": [
    {
     "name": "stdin",
     "output_type": "stream",
     "text": [
      "Enter your PIN:  ········\n"
     ]
    },
    {
     "name": "stdout",
     "output_type": "stream",
     "text": [
      "\n",
      "--- ATM Menu ---\n",
      "1. Check Balance\n",
      "2. Deposit Money\n",
      "3. Withdraw Money\n",
      "4. Change PIN\n",
      "5. Transaction History\n",
      "6. Exit\n"
     ]
    },
    {
     "name": "stdin",
     "output_type": "stream",
     "text": [
      "Select an option:  1\n"
     ]
    },
    {
     "name": "stdout",
     "output_type": "stream",
     "text": [
      "Your current balance is: $250000\n",
      "\n",
      "--- ATM Menu ---\n",
      "1. Check Balance\n",
      "2. Deposit Money\n",
      "3. Withdraw Money\n",
      "4. Change PIN\n",
      "5. Transaction History\n",
      "6. Exit\n"
     ]
    },
    {
     "name": "stdin",
     "output_type": "stream",
     "text": [
      "Select an option:  3\n",
      "Enter withdrawal amount:  1000\n"
     ]
    },
    {
     "name": "stdout",
     "output_type": "stream",
     "text": [
      "Withdrawal successful. $1000.0 withdrawn. New balance: $249000.0\n",
      "\n",
      "--- ATM Menu ---\n",
      "1. Check Balance\n",
      "2. Deposit Money\n",
      "3. Withdraw Money\n",
      "4. Change PIN\n",
      "5. Transaction History\n",
      "6. Exit\n"
     ]
    }
   ],
   "source": [
    "import getpass\n",
    "\n",
    "class ATM:\n",
    "    def __init__(self, pin, balance=250000):\n",
    "        self.pin = pin\n",
    "        self.balance = balance\n",
    "        self.transactions = []\n",
    "\n",
    "    def check_balance(self):\n",
    "        print(f\"Your current balance is: ${self.balance}\")\n",
    "        self.transactions.append(\"Balance Inquiry\")\n",
    "\n",
    "    def deposit(self, amount):\n",
    "        if amount > 0:\n",
    "            self.balance += amount\n",
    "            print(f\"${amount} deposited successfully. New balance: ${self.balance}\")\n",
    "            self.transactions.append(f\"Deposited: ${amount}\")\n",
    "        else:\n",
    "            print(\"Invalid deposit amount.\")\n",
    "\n",
    "    def withdraw(self, amount):\n",
    "        if 0 < amount <= self.balance:\n",
    "            self.balance -= amount\n",
    "            print(f\"Withdrawal successful. ${amount} withdrawn. New balance: ${self.balance}\")\n",
    "            self.transactions.append(f\"Withdrawn: ${amount}\")\n",
    "        else:\n",
    "            print(\"Invalid withdrawal amount or insufficient funds.\")\n",
    "\n",
    "    def change_pin(self, old_pin, new_pin):\n",
    "        if old_pin == self.pin:\n",
    "            self.pin = new_pin\n",
    "            print(\"PIN changed successfully.\")\n",
    "            self.transactions.append(\"PIN Changed\")\n",
    "        else:\n",
    "            print(\"Incorrect old PIN.\")\n",
    "\n",
    "    def show_transaction_history(self):\n",
    "        if self.transactions:\n",
    "            print(\"Transaction History:\")\n",
    "            for transaction in self.transactions:\n",
    "                print(transaction)\n",
    "        else:\n",
    "            print(\"No transactions yet.\")\n",
    "\n",
    "def main():\n",
    "    user_pin = \"1234\"  # Default PIN\n",
    "    atm = ATM(user_pin)\n",
    "\n",
    "    entered_pin = getpass.getpass(\"Enter your PIN: \")\n",
    "\n",
    "    if entered_pin != atm.pin:\n",
    "        print(\"Incorrect PIN. Exiting...\")\n",
    "        return\n",
    "\n",
    "    while True:\n",
    "        print(\"\\n--- ATM Menu ---\")\n",
    "        print(\"1. Check Balance\")\n",
    "        print(\"2. Deposit Money\")\n",
    "        print(\"3. Withdraw Money\")\n",
    "        print(\"4. Change PIN\")\n",
    "        print(\"5. Transaction History\")\n",
    "        print(\"6. Exit\")\n",
    "\n",
    "        choice = input(\"Select an option: \")\n",
    "\n",
    "        if choice == \"1\":\n",
    "            atm.check_balance()\n",
    "        elif choice == \"2\":\n",
    "            amount = float(input(\"Enter deposit amount: \"))\n",
    "            atm.deposit(amount)\n",
    "        elif choice == \"3\":\n",
    "            amount = float(input(\"Enter withdrawal amount: \"))\n",
    "            atm.withdraw(amount)\n",
    "        elif choice == \"4\":\n",
    "            old_pin = getpass.getpass(\"Enter old PIN: \")\n",
    "            new_pin = getpass.getpass(\"Enter new PIN: \")\n",
    "            atm.change_pin(old_pin, new_pin)\n",
    "        elif choice == \"5\":\n",
    "            atm.show_transaction_history()\n",
    "        elif choice == \"6\":\n",
    "            print(\"Exiting ATM. Thank you!\")\n",
    "            break\n",
    "        else:\n",
    "            print(\"Invalid choice. Please try again.\")\n",
    "\n",
    "if __name__ == \"__main__\":\n",
    "    main()\n"
   ]
  },
  {
   "cell_type": "code",
   "execution_count": null,
   "metadata": {},
   "outputs": [],
   "source": []
  }
 ],
 "metadata": {
  "colab": {
   "authorship_tag": "ABX9TyPV/bZM25SEY8Pv3z2iC+BR",
   "provenance": []
  },
  "kernelspec": {
   "display_name": "Python 3 (ipykernel)",
   "language": "python",
   "name": "python3"
  },
  "language_info": {
   "codemirror_mode": {
    "name": "ipython",
    "version": 3
   },
   "file_extension": ".py",
   "mimetype": "text/x-python",
   "name": "python",
   "nbconvert_exporter": "python",
   "pygments_lexer": "ipython3",
   "version": "3.12.7"
  }
 },
 "nbformat": 4,
 "nbformat_minor": 4
}
